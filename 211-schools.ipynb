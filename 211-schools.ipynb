{
 "cells": [
  {
   "cell_type": "markdown",
   "id": "a41ce68e-c375-47c7-af30-db7ddbe89912",
   "metadata": {},
   "source": [
    "## Chinese School Info"
   ]
  },
  {
   "cell_type": "markdown",
   "id": "2792d1b0-c0e3-4b12-8290-14f281c3732f",
   "metadata": {},
   "source": [
    "## 116所211高校记忆口诀\n",
    "\n",
    "**北京26所**  \n",
    "清北人大北理航，  \n",
    "北化北邮外经贸。（8）  \n",
    " \n",
    "中传政法和农大，（中国）  \n",
    "地质石油和矿大。（6）  \n",
    " \n",
    "民族财经和中音，（中央）  \n",
    "北师北体和北外。（6）  \n",
    " \n",
    "北科北林北工大  \n",
    "北交华电中医药。（6）  \n",
    " \n",
    "**上海9所**  \n",
    "复旦同济上外语  \n",
    "东华华师华东理  \n",
    "上海上财上交通  \n",
    "\n",
    "南天天医河北工（天津4所）  \n",
    "重庆西南华北电  \n",
    "东北大学秦皇岛（重庆2所，河北2所）  \n",
    "   \n",
    "太原理工内蒙古（山西1所，内蒙古1所）  \n",
    "大连理海东北辽（辽宁4所）  \n",
    " \n",
    "吉大延边东北师（吉林3所）  \n",
    "东北农林哈双工（黑龙江4所）  \n",
    " \n",
    "南大东南和苏州，  \n",
    "江南河海南农大，  \n",
    "中国药科中国矿，  \n",
    "南师南理南航空。（江苏11所）  \n",
    "   \n",
    "浙江安徽合工大，  \n",
    "福大厦大中科大。（浙江1所，安徽3所，福建2所）  \n",
    "    \n",
    "南昌山东中海洋，  \n",
    "中国石油华东区，  \n",
    "哈工山东威海区。（江西1所，山东5所）  \n",
    "  \n",
    "武大武理武地质，  \n",
    "华中科农和师范，  \n",
    "中南财经政法大。（湖北7所）  \n",
    "   \n",
    "湖南中南湖师大。（湖南3所）\n",
    "\n",
    "中山暨南广西大，\n",
    "华南理工和师范。（广东4所，广西一所）\n",
    " \n",
    "川大川农电科大，  \n",
    "西南交通和财经。（四川5所）  \n",
    "   \n",
    "西北西交西北工，  \n",
    "西北农科西安电，    \n",
    "陕西师大加长安。（陕西7所）  \n",
    " \n",
    "宁夏青藏和新疆  \n",
    "兰州郑州石河子  \n",
    "云南海南和贵州  （两所大学的新疆和其他只有一所大学的省份）  \n",
    "   \n",
    "二医四医国防科  （军事系统3所）  \n"
   ]
  },
  {
   "cell_type": "code",
   "execution_count": null,
   "id": "82e3efeb-24d9-4347-885a-dce454ee1f65",
   "metadata": {},
   "outputs": [],
   "source": []
  }
 ],
 "metadata": {
  "kernelspec": {
   "display_name": "Python 3 (ipykernel)",
   "language": "python",
   "name": "python3"
  },
  "language_info": {
   "codemirror_mode": {
    "name": "ipython",
    "version": 3
   },
   "file_extension": ".py",
   "mimetype": "text/x-python",
   "name": "python",
   "nbconvert_exporter": "python",
   "pygments_lexer": "ipython3",
   "version": "3.10.1"
  }
 },
 "nbformat": 4,
 "nbformat_minor": 5
}
